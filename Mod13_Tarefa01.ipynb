{
 "cells": [
  {
   "cell_type": "markdown",
   "metadata": {},
   "source": [
    "# EBAC - Regressão II - regressão múltipla\n",
    "\n",
    "## Tarefa I"
   ]
  },
  {
   "cell_type": "markdown",
   "metadata": {},
   "source": [
    "#### Previsão de renda\n",
    "\n",
    "Vamos trabalhar com a base 'previsao_de_renda.csv', que é a base do seu próximo projeto. Vamos usar os recursos que vimos até aqui nesta base.\n",
    "\n",
    "|variavel|descrição|\n",
    "|-|-|\n",
    "|data_ref                | Data de referência de coleta das variáveis |\n",
    "|index                   | Código de identificação do cliente|\n",
    "|sexo                    | Sexo do cliente|\n",
    "|posse_de_veiculo        | Indica se o cliente possui veículo|\n",
    "|posse_de_imovel         | Indica se o cliente possui imóvel|\n",
    "|qtd_filhos              | Quantidade de filhos do cliente|\n",
    "|tipo_renda              | Tipo de renda do cliente|\n",
    "|educacao                | Grau de instrução do cliente|\n",
    "|estado_civil            | Estado civil do cliente|\n",
    "|tipo_residencia         | Tipo de residência do cliente (própria, alugada etc)|\n",
    "|idade                   | Idade do cliente|\n",
    "|tempo_emprego           | Tempo no emprego atual|\n",
    "|qt_pessoas_residencia   | Quantidade de pessoas que moram na residência|\n",
    "|renda                   | Renda em reais|"
   ]
  },
  {
   "cell_type": "code",
   "execution_count": 187,
   "metadata": {},
   "outputs": [],
   "source": [
    "import pandas as pd\n",
    "import math\n",
    "\n",
    "import pandas as pd\n",
    "import numpy as np\n",
    "\n",
    "import seaborn as sns\n",
    "import matplotlib.pyplot as plt\n",
    "\n",
    "from sklearn.model_selection import train_test_split\n",
    "from sklearn import metrics\n",
    "from sklearn.ensemble import RandomForestClassifier\n",
    "\n",
    "from scipy.stats import ks_2samp\n",
    "import statsmodels.formula.api as smf\n",
    "import statsmodels.api as sm\n",
    "import patsy\n",
    "\n",
    "import scipy.stats\n",
    "\n",
    "%matplotlib inline"
   ]
  },
  {
   "cell_type": "code",
   "execution_count": 188,
   "metadata": {},
   "outputs": [],
   "source": [
    "df = pd.read_csv('previsao_de_renda.csv')\n",
    "df.drop(['Unnamed: 0', 'id_cliente'], axis=1, inplace=True)\n",
    "df['data_ref'] = pd.to_datetime(df['data_ref'])\n",
    "df['data_ref'] = df['data_ref'].dt.strftime('%m-%Y')"
   ]
  },
  {
   "cell_type": "markdown",
   "metadata": {},
   "source": [
    "1. Ajuste um modelo para prever log(renda) considerando todas as covariáveis disponíveis.\n",
    "    - Utilizando os recursos do Patsy, coloque as variáveis qualitativas como *dummies*.\n",
    "    - Mantenha sempre a categoria mais frequente como casela de referência\n",
    "    - Avalie os parâmetros e veja se parecem fazer sentido prático.  \n",
    "\n",
    "\n",
    "2. Remova a variável menos significante e analise:\n",
    "    - Observe os indicadores que vimos, e avalie se o modelo melhorou ou piorou na sua opinião.\n",
    "    - Observe os parâmetros e veja se algum se alterou muito.  \n",
    "\n",
    "\n",
    "3. Siga removendo as variáveis menos significantes, sempre que o *p-value* for menor que 5%. Compare o modelo final com o inicial. Observe os indicadores e conclua se o modelo parece melhor. \n",
    "    "
   ]
  },
  {
   "cell_type": "code",
   "execution_count": 189,
   "metadata": {},
   "outputs": [
    {
     "data": {
      "text/plain": [
       "F    67.46\n",
       "M    32.54\n",
       "Name: sexo, dtype: float64"
      ]
     },
     "execution_count": 189,
     "metadata": {},
     "output_type": "execute_result"
    }
   ],
   "source": [
    "df['sexo'].value_counts(normalize=True)*100"
   ]
  },
  {
   "cell_type": "code",
   "execution_count": 190,
   "metadata": {},
   "outputs": [
    {
     "data": {
      "text/plain": [
       "False    60.933333\n",
       "True     39.066667\n",
       "Name: posse_de_veiculo, dtype: float64"
      ]
     },
     "execution_count": 190,
     "metadata": {},
     "output_type": "execute_result"
    }
   ],
   "source": [
    "df['posse_de_veiculo'].value_counts(normalize=True)*100"
   ]
  },
  {
   "cell_type": "code",
   "execution_count": 191,
   "metadata": {},
   "outputs": [
    {
     "data": {
      "text/plain": [
       "True     67.62\n",
       "False    32.38\n",
       "Name: posse_de_imovel, dtype: float64"
      ]
     },
     "execution_count": 191,
     "metadata": {},
     "output_type": "execute_result"
    }
   ],
   "source": [
    "df['posse_de_imovel'].value_counts(normalize=True)*100"
   ]
  },
  {
   "cell_type": "code",
   "execution_count": 192,
   "metadata": {},
   "outputs": [
    {
     "data": {
      "text/plain": [
       "0     69.173333\n",
       "1     20.246667\n",
       "2      9.173333\n",
       "3      1.233333\n",
       "4      0.113333\n",
       "7      0.033333\n",
       "14     0.013333\n",
       "5      0.013333\n",
       "Name: qtd_filhos, dtype: float64"
      ]
     },
     "execution_count": 192,
     "metadata": {},
     "output_type": "execute_result"
    }
   ],
   "source": [
    "df['qtd_filhos'].value_counts(normalize=True)*100"
   ]
  },
  {
   "cell_type": "code",
   "execution_count": 193,
   "metadata": {},
   "outputs": [
    {
     "data": {
      "text/plain": [
       "Assalariado         50.886667\n",
       "Empresário          23.386667\n",
       "Pensionista         17.213333\n",
       "Servidor público     8.453333\n",
       "Bolsista             0.060000\n",
       "Name: tipo_renda, dtype: float64"
      ]
     },
     "execution_count": 193,
     "metadata": {},
     "output_type": "execute_result"
    }
   ],
   "source": [
    "df['tipo_renda'].value_counts(normalize=True)*100"
   ]
  },
  {
   "cell_type": "code",
   "execution_count": 194,
   "metadata": {},
   "outputs": [
    {
     "data": {
      "text/plain": [
       "Secundário             59.300000\n",
       "Superior completo      35.566667\n",
       "Superior incompleto     3.860000\n",
       "Primário                1.100000\n",
       "Pós graduação           0.173333\n",
       "Name: educacao, dtype: float64"
      ]
     },
     "execution_count": 194,
     "metadata": {},
     "output_type": "execute_result"
    }
   ],
   "source": [
    "df['educacao'].value_counts(normalize=True)*100"
   ]
  },
  {
   "cell_type": "code",
   "execution_count": 195,
   "metadata": {},
   "outputs": [
    {
     "data": {
      "text/plain": [
       "Casado      70.226667\n",
       "Solteiro    11.986667\n",
       "União        7.186667\n",
       "Separado     5.860000\n",
       "Viúvo        4.740000\n",
       "Name: estado_civil, dtype: float64"
      ]
     },
     "execution_count": 195,
     "metadata": {},
     "output_type": "execute_result"
    }
   ],
   "source": [
    "df['estado_civil'].value_counts(normalize=True)*100"
   ]
  },
  {
   "cell_type": "code",
   "execution_count": 196,
   "metadata": {},
   "outputs": [
    {
     "data": {
      "text/plain": [
       "Casa             90.213333\n",
       "Com os pais       4.500000\n",
       "Governamental     3.013333\n",
       "Aluguel           1.293333\n",
       "Estúdio           0.553333\n",
       "Comunitário       0.426667\n",
       "Name: tipo_residencia, dtype: float64"
      ]
     },
     "execution_count": 196,
     "metadata": {},
     "output_type": "execute_result"
    }
   ],
   "source": [
    "df['tipo_residencia'].value_counts(normalize=True)*100"
   ]
  },
  {
   "cell_type": "code",
   "execution_count": 197,
   "metadata": {},
   "outputs": [
    {
     "data": {
      "text/plain": [
       "40    3.586667\n",
       "37    3.126667\n",
       "43    3.053333\n",
       "32    3.033333\n",
       "33    2.940000\n",
       "39    2.933333\n",
       "38    2.920000\n",
       "27    2.906667\n",
       "60    2.900000\n",
       "46    2.873333\n",
       "30    2.860000\n",
       "41    2.800000\n",
       "28    2.733333\n",
       "34    2.713333\n",
       "44    2.686667\n",
       "31    2.686667\n",
       "42    2.680000\n",
       "47    2.653333\n",
       "36    2.560000\n",
       "29    2.513333\n",
       "50    2.493333\n",
       "54    2.486667\n",
       "35    2.480000\n",
       "45    2.473333\n",
       "51    2.360000\n",
       "48    2.306667\n",
       "52    2.260000\n",
       "58    2.260000\n",
       "53    2.220000\n",
       "57    2.186667\n",
       "59    2.053333\n",
       "49    2.033333\n",
       "56    1.966667\n",
       "55    1.713333\n",
       "61    1.686667\n",
       "62    1.606667\n",
       "63    1.586667\n",
       "64    1.340000\n",
       "26    1.180000\n",
       "65    0.953333\n",
       "25    0.886667\n",
       "66    0.846667\n",
       "24    0.660000\n",
       "67    0.440000\n",
       "23    0.173333\n",
       "22    0.100000\n",
       "68    0.086667\n",
       "Name: idade, dtype: float64"
      ]
     },
     "execution_count": 197,
     "metadata": {},
     "output_type": "execute_result"
    }
   ],
   "source": [
    "df['idade'].value_counts(normalize=True)*100"
   ]
  },
  {
   "cell_type": "code",
   "execution_count": 198,
   "metadata": {},
   "outputs": [
    {
     "data": {
      "text/plain": [
       "4.216438     0.305786\n",
       "6.934247     0.241410\n",
       "7.520548     0.233363\n",
       "15.449315    0.217269\n",
       "5.717808     0.209222\n",
       "               ...   \n",
       "31.202740    0.008047\n",
       "5.279452     0.008047\n",
       "0.652055     0.008047\n",
       "2.827397     0.008047\n",
       "2.726027     0.008047\n",
       "Name: tempo_emprego, Length: 2589, dtype: float64"
      ]
     },
     "execution_count": 198,
     "metadata": {},
     "output_type": "execute_result"
    }
   ],
   "source": [
    "df['tempo_emprego'].value_counts(normalize=True)*100"
   ]
  },
  {
   "cell_type": "code",
   "execution_count": 199,
   "metadata": {},
   "outputs": [
    {
     "data": {
      "text/plain": [
       "2.0     54.540000\n",
       "1.0     18.346667\n",
       "3.0     17.006667\n",
       "4.0      8.740000\n",
       "5.0      1.193333\n",
       "6.0      0.120000\n",
       "9.0      0.033333\n",
       "15.0     0.013333\n",
       "7.0      0.006667\n",
       "Name: qt_pessoas_residencia, dtype: float64"
      ]
     },
     "execution_count": 199,
     "metadata": {},
     "output_type": "execute_result"
    }
   ],
   "source": [
    "df['qt_pessoas_residencia'].value_counts(normalize=True)*100"
   ]
  },
  {
   "cell_type": "markdown",
   "metadata": {},
   "source": [
    "1. Ajuste um modelo para prever log(renda) considerando todas as covariáveis disponíveis.\n",
    "\n",
    "- Utilizando os recursos do Patsy, coloque as variáveis qualitativas como dummies.\n",
    "- Mantenha sempre a categoria mais frequente como casela de referência\n",
    "- Avalie os parâmetros e veja se parecem fazer sentido prático."
   ]
  },
  {
   "cell_type": "code",
   "execution_count": 200,
   "metadata": {},
   "outputs": [],
   "source": [
    "y, x = patsy.dmatrices('np.log(renda) ~ data_ref + sexo + posse_de_veiculo + posse_de_imovel + qtd_filhos + tipo_renda + educacao + estado_civil + C(tipo_residencia, Treatment(1)) + idade + tempo_emprego + qt_pessoas_residencia', data = df)"
   ]
  },
  {
   "cell_type": "code",
   "execution_count": 201,
   "metadata": {},
   "outputs": [
    {
     "data": {
      "text/html": [
       "<table class=\"simpletable\">\n",
       "<caption>OLS Regression Results</caption>\n",
       "<tr>\n",
       "  <th>Dep. Variable:</th>      <td>np.log(renda)</td>  <th>  R-squared:         </th> <td>   0.359</td> \n",
       "</tr>\n",
       "<tr>\n",
       "  <th>Model:</th>                   <td>OLS</td>       <th>  Adj. R-squared:    </th> <td>   0.357</td> \n",
       "</tr>\n",
       "<tr>\n",
       "  <th>Method:</th>             <td>Least Squares</td>  <th>  F-statistic:       </th> <td>   182.5</td> \n",
       "</tr>\n",
       "<tr>\n",
       "  <th>Date:</th>             <td>Sun, 05 Feb 2023</td> <th>  Prob (F-statistic):</th>  <td>  0.00</td>  \n",
       "</tr>\n",
       "<tr>\n",
       "  <th>Time:</th>                 <td>18:55:09</td>     <th>  Log-Likelihood:    </th> <td> -13554.</td> \n",
       "</tr>\n",
       "<tr>\n",
       "  <th>No. Observations:</th>      <td> 12427</td>      <th>  AIC:               </th> <td>2.719e+04</td>\n",
       "</tr>\n",
       "<tr>\n",
       "  <th>Df Residuals:</th>          <td> 12388</td>      <th>  BIC:               </th> <td>2.748e+04</td>\n",
       "</tr>\n",
       "<tr>\n",
       "  <th>Df Model:</th>              <td>    38</td>      <th>                     </th>     <td> </td>    \n",
       "</tr>\n",
       "<tr>\n",
       "  <th>Covariance Type:</th>      <td>nonrobust</td>    <th>                     </th>     <td> </td>    \n",
       "</tr>\n",
       "</table>\n",
       "<table class=\"simpletable\">\n",
       "<tr>\n",
       "                          <td></td>                             <th>coef</th>     <th>std err</th>      <th>t</th>      <th>P>|t|</th>  <th>[0.025</th>    <th>0.975]</th>  \n",
       "</tr>\n",
       "<tr>\n",
       "  <th>Intercept</th>                                         <td>    6.5319</td> <td>    0.231</td> <td>   28.306</td> <td> 0.000</td> <td>    6.080</td> <td>    6.984</td>\n",
       "</tr>\n",
       "<tr>\n",
       "  <th>data_ref[T.01-2016]</th>                               <td>   -0.0375</td> <td>    0.035</td> <td>   -1.057</td> <td> 0.291</td> <td>   -0.107</td> <td>    0.032</td>\n",
       "</tr>\n",
       "<tr>\n",
       "  <th>data_ref[T.02-2015]</th>                               <td>    0.0031</td> <td>    0.035</td> <td>    0.088</td> <td> 0.930</td> <td>   -0.066</td> <td>    0.073</td>\n",
       "</tr>\n",
       "<tr>\n",
       "  <th>data_ref[T.02-2016]</th>                               <td>   -0.0064</td> <td>    0.035</td> <td>   -0.181</td> <td> 0.856</td> <td>   -0.076</td> <td>    0.063</td>\n",
       "</tr>\n",
       "<tr>\n",
       "  <th>data_ref[T.03-2015]</th>                               <td>    0.0505</td> <td>    0.036</td> <td>    1.421</td> <td> 0.155</td> <td>   -0.019</td> <td>    0.120</td>\n",
       "</tr>\n",
       "<tr>\n",
       "  <th>data_ref[T.03-2016]</th>                               <td>   -0.0399</td> <td>    0.036</td> <td>   -1.115</td> <td> 0.265</td> <td>   -0.110</td> <td>    0.030</td>\n",
       "</tr>\n",
       "<tr>\n",
       "  <th>data_ref[T.04-2015]</th>                               <td>    0.0494</td> <td>    0.035</td> <td>    1.394</td> <td> 0.163</td> <td>   -0.020</td> <td>    0.119</td>\n",
       "</tr>\n",
       "<tr>\n",
       "  <th>data_ref[T.05-2015]</th>                               <td>   -0.0183</td> <td>    0.035</td> <td>   -0.518</td> <td> 0.605</td> <td>   -0.088</td> <td>    0.051</td>\n",
       "</tr>\n",
       "<tr>\n",
       "  <th>data_ref[T.06-2015]</th>                               <td>    0.0729</td> <td>    0.035</td> <td>    2.056</td> <td> 0.040</td> <td>    0.003</td> <td>    0.142</td>\n",
       "</tr>\n",
       "<tr>\n",
       "  <th>data_ref[T.07-2015]</th>                               <td>    0.0285</td> <td>    0.035</td> <td>    0.806</td> <td> 0.421</td> <td>   -0.041</td> <td>    0.098</td>\n",
       "</tr>\n",
       "<tr>\n",
       "  <th>data_ref[T.08-2015]</th>                               <td>    0.0010</td> <td>    0.035</td> <td>    0.027</td> <td> 0.978</td> <td>   -0.069</td> <td>    0.070</td>\n",
       "</tr>\n",
       "<tr>\n",
       "  <th>data_ref[T.09-2015]</th>                               <td>   -0.0072</td> <td>    0.035</td> <td>   -0.204</td> <td> 0.838</td> <td>   -0.076</td> <td>    0.062</td>\n",
       "</tr>\n",
       "<tr>\n",
       "  <th>data_ref[T.10-2015]</th>                               <td>    0.0231</td> <td>    0.035</td> <td>    0.650</td> <td> 0.516</td> <td>   -0.046</td> <td>    0.093</td>\n",
       "</tr>\n",
       "<tr>\n",
       "  <th>data_ref[T.11-2015]</th>                               <td>    0.0206</td> <td>    0.035</td> <td>    0.581</td> <td> 0.561</td> <td>   -0.049</td> <td>    0.090</td>\n",
       "</tr>\n",
       "<tr>\n",
       "  <th>data_ref[T.12-2015]</th>                               <td>    0.0720</td> <td>    0.036</td> <td>    2.021</td> <td> 0.043</td> <td>    0.002</td> <td>    0.142</td>\n",
       "</tr>\n",
       "<tr>\n",
       "  <th>sexo[T.M]</th>                                         <td>    0.7882</td> <td>    0.015</td> <td>   53.787</td> <td> 0.000</td> <td>    0.759</td> <td>    0.817</td>\n",
       "</tr>\n",
       "<tr>\n",
       "  <th>posse_de_veiculo[T.True]</th>                          <td>    0.0437</td> <td>    0.014</td> <td>    3.092</td> <td> 0.002</td> <td>    0.016</td> <td>    0.071</td>\n",
       "</tr>\n",
       "<tr>\n",
       "  <th>posse_de_imovel[T.True]</th>                           <td>    0.0825</td> <td>    0.014</td> <td>    5.902</td> <td> 0.000</td> <td>    0.055</td> <td>    0.110</td>\n",
       "</tr>\n",
       "<tr>\n",
       "  <th>tipo_renda[T.Bolsista]</th>                            <td>    0.2210</td> <td>    0.241</td> <td>    0.917</td> <td> 0.359</td> <td>   -0.252</td> <td>    0.694</td>\n",
       "</tr>\n",
       "<tr>\n",
       "  <th>tipo_renda[T.Empresário]</th>                          <td>    0.1566</td> <td>    0.015</td> <td>   10.483</td> <td> 0.000</td> <td>    0.127</td> <td>    0.186</td>\n",
       "</tr>\n",
       "<tr>\n",
       "  <th>tipo_renda[T.Pensionista]</th>                         <td>   -0.3122</td> <td>    0.241</td> <td>   -1.294</td> <td> 0.196</td> <td>   -0.785</td> <td>    0.161</td>\n",
       "</tr>\n",
       "<tr>\n",
       "  <th>tipo_renda[T.Servidor público]</th>                    <td>    0.0575</td> <td>    0.022</td> <td>    2.587</td> <td> 0.010</td> <td>    0.014</td> <td>    0.101</td>\n",
       "</tr>\n",
       "<tr>\n",
       "  <th>educacao[T.Pós graduação]</th>                         <td>    0.0980</td> <td>    0.159</td> <td>    0.616</td> <td> 0.538</td> <td>   -0.214</td> <td>    0.410</td>\n",
       "</tr>\n",
       "<tr>\n",
       "  <th>educacao[T.Secundário]</th>                            <td>   -0.0175</td> <td>    0.072</td> <td>   -0.243</td> <td> 0.808</td> <td>   -0.159</td> <td>    0.124</td>\n",
       "</tr>\n",
       "<tr>\n",
       "  <th>educacao[T.Superior completo]</th>                     <td>    0.0930</td> <td>    0.072</td> <td>    1.287</td> <td> 0.198</td> <td>   -0.049</td> <td>    0.235</td>\n",
       "</tr>\n",
       "<tr>\n",
       "  <th>educacao[T.Superior incompleto]</th>                   <td>   -0.0458</td> <td>    0.078</td> <td>   -0.589</td> <td> 0.556</td> <td>   -0.198</td> <td>    0.107</td>\n",
       "</tr>\n",
       "<tr>\n",
       "  <th>estado_civil[T.Separado]</th>                          <td>    0.3237</td> <td>    0.111</td> <td>    2.910</td> <td> 0.004</td> <td>    0.106</td> <td>    0.542</td>\n",
       "</tr>\n",
       "<tr>\n",
       "  <th>estado_civil[T.Solteiro]</th>                          <td>    0.2650</td> <td>    0.109</td> <td>    2.433</td> <td> 0.015</td> <td>    0.052</td> <td>    0.478</td>\n",
       "</tr>\n",
       "<tr>\n",
       "  <th>estado_civil[T.União]</th>                             <td>   -0.0325</td> <td>    0.025</td> <td>   -1.292</td> <td> 0.196</td> <td>   -0.082</td> <td>    0.017</td>\n",
       "</tr>\n",
       "<tr>\n",
       "  <th>estado_civil[T.Viúvo]</th>                             <td>    0.3698</td> <td>    0.116</td> <td>    3.199</td> <td> 0.001</td> <td>    0.143</td> <td>    0.596</td>\n",
       "</tr>\n",
       "<tr>\n",
       "  <th>C(tipo_residencia, Treatment(1))[T.Aluguel]</th>       <td>    0.0410</td> <td>    0.054</td> <td>    0.756</td> <td> 0.449</td> <td>   -0.065</td> <td>    0.147</td>\n",
       "</tr>\n",
       "<tr>\n",
       "  <th>C(tipo_residencia, Treatment(1))[T.Com os pais]</th>   <td>    0.0188</td> <td>    0.029</td> <td>    0.638</td> <td> 0.524</td> <td>   -0.039</td> <td>    0.076</td>\n",
       "</tr>\n",
       "<tr>\n",
       "  <th>C(tipo_residencia, Treatment(1))[T.Comunitário]</th>   <td>   -0.0760</td> <td>    0.091</td> <td>   -0.835</td> <td> 0.404</td> <td>   -0.254</td> <td>    0.102</td>\n",
       "</tr>\n",
       "<tr>\n",
       "  <th>C(tipo_residencia, Treatment(1))[T.Estúdio]</th>       <td>    0.1079</td> <td>    0.084</td> <td>    1.287</td> <td> 0.198</td> <td>   -0.057</td> <td>    0.272</td>\n",
       "</tr>\n",
       "<tr>\n",
       "  <th>C(tipo_residencia, Treatment(1))[T.Governamental]</th> <td>   -0.0127</td> <td>    0.039</td> <td>   -0.324</td> <td> 0.746</td> <td>   -0.089</td> <td>    0.064</td>\n",
       "</tr>\n",
       "<tr>\n",
       "  <th>qtd_filhos</th>                                        <td>   -0.2624</td> <td>    0.108</td> <td>   -2.431</td> <td> 0.015</td> <td>   -0.474</td> <td>   -0.051</td>\n",
       "</tr>\n",
       "<tr>\n",
       "  <th>idade</th>                                             <td>    0.0053</td> <td>    0.001</td> <td>    6.655</td> <td> 0.000</td> <td>    0.004</td> <td>    0.007</td>\n",
       "</tr>\n",
       "<tr>\n",
       "  <th>tempo_emprego</th>                                     <td>    0.0617</td> <td>    0.001</td> <td>   59.415</td> <td> 0.000</td> <td>    0.060</td> <td>    0.064</td>\n",
       "</tr>\n",
       "<tr>\n",
       "  <th>qt_pessoas_residencia</th>                             <td>    0.2901</td> <td>    0.108</td> <td>    2.693</td> <td> 0.007</td> <td>    0.079</td> <td>    0.501</td>\n",
       "</tr>\n",
       "</table>\n",
       "<table class=\"simpletable\">\n",
       "<tr>\n",
       "  <th>Omnibus:</th>       <td> 1.087</td> <th>  Durbin-Watson:     </th> <td>   2.028</td>\n",
       "</tr>\n",
       "<tr>\n",
       "  <th>Prob(Omnibus):</th> <td> 0.581</td> <th>  Jarque-Bera (JB):  </th> <td>   1.064</td>\n",
       "</tr>\n",
       "<tr>\n",
       "  <th>Skew:</th>          <td> 0.021</td> <th>  Prob(JB):          </th> <td>   0.587</td>\n",
       "</tr>\n",
       "<tr>\n",
       "  <th>Kurtosis:</th>      <td> 3.016</td> <th>  Cond. No.          </th> <td>2.17e+03</td>\n",
       "</tr>\n",
       "</table><br/><br/>Notes:<br/>[1] Standard Errors assume that the covariance matrix of the errors is correctly specified.<br/>[2] The condition number is large, 2.17e+03. This might indicate that there are<br/>strong multicollinearity or other numerical problems."
      ],
      "text/plain": [
       "<class 'statsmodels.iolib.summary.Summary'>\n",
       "\"\"\"\n",
       "                            OLS Regression Results                            \n",
       "==============================================================================\n",
       "Dep. Variable:          np.log(renda)   R-squared:                       0.359\n",
       "Model:                            OLS   Adj. R-squared:                  0.357\n",
       "Method:                 Least Squares   F-statistic:                     182.5\n",
       "Date:                Sun, 05 Feb 2023   Prob (F-statistic):               0.00\n",
       "Time:                        18:55:09   Log-Likelihood:                -13554.\n",
       "No. Observations:               12427   AIC:                         2.719e+04\n",
       "Df Residuals:                   12388   BIC:                         2.748e+04\n",
       "Df Model:                          38                                         \n",
       "Covariance Type:            nonrobust                                         \n",
       "=====================================================================================================================\n",
       "                                                        coef    std err          t      P>|t|      [0.025      0.975]\n",
       "---------------------------------------------------------------------------------------------------------------------\n",
       "Intercept                                             6.5319      0.231     28.306      0.000       6.080       6.984\n",
       "data_ref[T.01-2016]                                  -0.0375      0.035     -1.057      0.291      -0.107       0.032\n",
       "data_ref[T.02-2015]                                   0.0031      0.035      0.088      0.930      -0.066       0.073\n",
       "data_ref[T.02-2016]                                  -0.0064      0.035     -0.181      0.856      -0.076       0.063\n",
       "data_ref[T.03-2015]                                   0.0505      0.036      1.421      0.155      -0.019       0.120\n",
       "data_ref[T.03-2016]                                  -0.0399      0.036     -1.115      0.265      -0.110       0.030\n",
       "data_ref[T.04-2015]                                   0.0494      0.035      1.394      0.163      -0.020       0.119\n",
       "data_ref[T.05-2015]                                  -0.0183      0.035     -0.518      0.605      -0.088       0.051\n",
       "data_ref[T.06-2015]                                   0.0729      0.035      2.056      0.040       0.003       0.142\n",
       "data_ref[T.07-2015]                                   0.0285      0.035      0.806      0.421      -0.041       0.098\n",
       "data_ref[T.08-2015]                                   0.0010      0.035      0.027      0.978      -0.069       0.070\n",
       "data_ref[T.09-2015]                                  -0.0072      0.035     -0.204      0.838      -0.076       0.062\n",
       "data_ref[T.10-2015]                                   0.0231      0.035      0.650      0.516      -0.046       0.093\n",
       "data_ref[T.11-2015]                                   0.0206      0.035      0.581      0.561      -0.049       0.090\n",
       "data_ref[T.12-2015]                                   0.0720      0.036      2.021      0.043       0.002       0.142\n",
       "sexo[T.M]                                             0.7882      0.015     53.787      0.000       0.759       0.817\n",
       "posse_de_veiculo[T.True]                              0.0437      0.014      3.092      0.002       0.016       0.071\n",
       "posse_de_imovel[T.True]                               0.0825      0.014      5.902      0.000       0.055       0.110\n",
       "tipo_renda[T.Bolsista]                                0.2210      0.241      0.917      0.359      -0.252       0.694\n",
       "tipo_renda[T.Empresário]                              0.1566      0.015     10.483      0.000       0.127       0.186\n",
       "tipo_renda[T.Pensionista]                            -0.3122      0.241     -1.294      0.196      -0.785       0.161\n",
       "tipo_renda[T.Servidor público]                        0.0575      0.022      2.587      0.010       0.014       0.101\n",
       "educacao[T.Pós graduação]                             0.0980      0.159      0.616      0.538      -0.214       0.410\n",
       "educacao[T.Secundário]                               -0.0175      0.072     -0.243      0.808      -0.159       0.124\n",
       "educacao[T.Superior completo]                         0.0930      0.072      1.287      0.198      -0.049       0.235\n",
       "educacao[T.Superior incompleto]                      -0.0458      0.078     -0.589      0.556      -0.198       0.107\n",
       "estado_civil[T.Separado]                              0.3237      0.111      2.910      0.004       0.106       0.542\n",
       "estado_civil[T.Solteiro]                              0.2650      0.109      2.433      0.015       0.052       0.478\n",
       "estado_civil[T.União]                                -0.0325      0.025     -1.292      0.196      -0.082       0.017\n",
       "estado_civil[T.Viúvo]                                 0.3698      0.116      3.199      0.001       0.143       0.596\n",
       "C(tipo_residencia, Treatment(1))[T.Aluguel]           0.0410      0.054      0.756      0.449      -0.065       0.147\n",
       "C(tipo_residencia, Treatment(1))[T.Com os pais]       0.0188      0.029      0.638      0.524      -0.039       0.076\n",
       "C(tipo_residencia, Treatment(1))[T.Comunitário]      -0.0760      0.091     -0.835      0.404      -0.254       0.102\n",
       "C(tipo_residencia, Treatment(1))[T.Estúdio]           0.1079      0.084      1.287      0.198      -0.057       0.272\n",
       "C(tipo_residencia, Treatment(1))[T.Governamental]    -0.0127      0.039     -0.324      0.746      -0.089       0.064\n",
       "qtd_filhos                                           -0.2624      0.108     -2.431      0.015      -0.474      -0.051\n",
       "idade                                                 0.0053      0.001      6.655      0.000       0.004       0.007\n",
       "tempo_emprego                                         0.0617      0.001     59.415      0.000       0.060       0.064\n",
       "qt_pessoas_residencia                                 0.2901      0.108      2.693      0.007       0.079       0.501\n",
       "==============================================================================\n",
       "Omnibus:                        1.087   Durbin-Watson:                   2.028\n",
       "Prob(Omnibus):                  0.581   Jarque-Bera (JB):                1.064\n",
       "Skew:                           0.021   Prob(JB):                        0.587\n",
       "Kurtosis:                       3.016   Cond. No.                     2.17e+03\n",
       "==============================================================================\n",
       "\n",
       "Notes:\n",
       "[1] Standard Errors assume that the covariance matrix of the errors is correctly specified.\n",
       "[2] The condition number is large, 2.17e+03. This might indicate that there are\n",
       "strong multicollinearity or other numerical problems.\n",
       "\"\"\""
      ]
     },
     "execution_count": 201,
     "metadata": {},
     "output_type": "execute_result"
    }
   ],
   "source": [
    "sm.OLS(y, x).fit().summary()"
   ]
  },
  {
   "cell_type": "code",
   "execution_count": null,
   "metadata": {},
   "outputs": [],
   "source": [
    "# R. Os parâmetros parecem fazer sentido prático para o modelo."
   ]
  },
  {
   "cell_type": "markdown",
   "metadata": {},
   "source": [
    "2. Remova a variável menos significante e analise:\n",
    "    - Observe os indicadores que vimos, e avalie se o modelo melhorou ou piorou na sua opinião.\n",
    "    - Observe os parâmetros e veja se algum se alterou muito.  \n"
   ]
  },
  {
   "cell_type": "code",
   "execution_count": 203,
   "metadata": {},
   "outputs": [],
   "source": [
    "# Variável menos significante: data_ref (cim p-values acima de 5% para todas as variáveis dummies)."
   ]
  },
  {
   "cell_type": "code",
   "execution_count": 204,
   "metadata": {},
   "outputs": [],
   "source": [
    "y, x = patsy.dmatrices('np.log(renda) ~ sexo + posse_de_veiculo + posse_de_imovel + qtd_filhos + tipo_renda + educacao + estado_civil + C(tipo_residencia, Treatment(1)) + idade + tempo_emprego + qt_pessoas_residencia', data = df)"
   ]
  },
  {
   "cell_type": "code",
   "execution_count": 205,
   "metadata": {},
   "outputs": [
    {
     "data": {
      "text/html": [
       "<table class=\"simpletable\">\n",
       "<caption>OLS Regression Results</caption>\n",
       "<tr>\n",
       "  <th>Dep. Variable:</th>      <td>np.log(renda)</td>  <th>  R-squared:         </th> <td>   0.357</td> \n",
       "</tr>\n",
       "<tr>\n",
       "  <th>Model:</th>                   <td>OLS</td>       <th>  Adj. R-squared:    </th> <td>   0.356</td> \n",
       "</tr>\n",
       "<tr>\n",
       "  <th>Method:</th>             <td>Least Squares</td>  <th>  F-statistic:       </th> <td>   287.5</td> \n",
       "</tr>\n",
       "<tr>\n",
       "  <th>Date:</th>             <td>Sun, 05 Feb 2023</td> <th>  Prob (F-statistic):</th>  <td>  0.00</td>  \n",
       "</tr>\n",
       "<tr>\n",
       "  <th>Time:</th>                 <td>18:55:12</td>     <th>  Log-Likelihood:    </th> <td> -13568.</td> \n",
       "</tr>\n",
       "<tr>\n",
       "  <th>No. Observations:</th>      <td> 12427</td>      <th>  AIC:               </th> <td>2.719e+04</td>\n",
       "</tr>\n",
       "<tr>\n",
       "  <th>Df Residuals:</th>          <td> 12402</td>      <th>  BIC:               </th> <td>2.737e+04</td>\n",
       "</tr>\n",
       "<tr>\n",
       "  <th>Df Model:</th>              <td>    24</td>      <th>                     </th>     <td> </td>    \n",
       "</tr>\n",
       "<tr>\n",
       "  <th>Covariance Type:</th>      <td>nonrobust</td>    <th>                     </th>     <td> </td>    \n",
       "</tr>\n",
       "</table>\n",
       "<table class=\"simpletable\">\n",
       "<tr>\n",
       "                          <td></td>                             <th>coef</th>     <th>std err</th>      <th>t</th>      <th>P>|t|</th>  <th>[0.025</th>    <th>0.975]</th>  \n",
       "</tr>\n",
       "<tr>\n",
       "  <th>Intercept</th>                                         <td>    6.5406</td> <td>    0.229</td> <td>   28.502</td> <td> 0.000</td> <td>    6.091</td> <td>    6.990</td>\n",
       "</tr>\n",
       "<tr>\n",
       "  <th>sexo[T.M]</th>                                         <td>    0.7874</td> <td>    0.015</td> <td>   53.723</td> <td> 0.000</td> <td>    0.759</td> <td>    0.816</td>\n",
       "</tr>\n",
       "<tr>\n",
       "  <th>posse_de_veiculo[T.True]</th>                          <td>    0.0441</td> <td>    0.014</td> <td>    3.119</td> <td> 0.002</td> <td>    0.016</td> <td>    0.072</td>\n",
       "</tr>\n",
       "<tr>\n",
       "  <th>posse_de_imovel[T.True]</th>                           <td>    0.0829</td> <td>    0.014</td> <td>    5.926</td> <td> 0.000</td> <td>    0.055</td> <td>    0.110</td>\n",
       "</tr>\n",
       "<tr>\n",
       "  <th>tipo_renda[T.Bolsista]</th>                            <td>    0.2209</td> <td>    0.241</td> <td>    0.916</td> <td> 0.360</td> <td>   -0.252</td> <td>    0.694</td>\n",
       "</tr>\n",
       "<tr>\n",
       "  <th>tipo_renda[T.Empresário]</th>                          <td>    0.1551</td> <td>    0.015</td> <td>   10.387</td> <td> 0.000</td> <td>    0.126</td> <td>    0.184</td>\n",
       "</tr>\n",
       "<tr>\n",
       "  <th>tipo_renda[T.Pensionista]</th>                         <td>   -0.3087</td> <td>    0.241</td> <td>   -1.280</td> <td> 0.201</td> <td>   -0.782</td> <td>    0.164</td>\n",
       "</tr>\n",
       "<tr>\n",
       "  <th>tipo_renda[T.Servidor público]</th>                    <td>    0.0576</td> <td>    0.022</td> <td>    2.591</td> <td> 0.010</td> <td>    0.014</td> <td>    0.101</td>\n",
       "</tr>\n",
       "<tr>\n",
       "  <th>educacao[T.Pós graduação]</th>                         <td>    0.1071</td> <td>    0.159</td> <td>    0.673</td> <td> 0.501</td> <td>   -0.205</td> <td>    0.419</td>\n",
       "</tr>\n",
       "<tr>\n",
       "  <th>educacao[T.Secundário]</th>                            <td>   -0.0141</td> <td>    0.072</td> <td>   -0.196</td> <td> 0.844</td> <td>   -0.155</td> <td>    0.127</td>\n",
       "</tr>\n",
       "<tr>\n",
       "  <th>educacao[T.Superior completo]</th>                     <td>    0.0938</td> <td>    0.072</td> <td>    1.298</td> <td> 0.194</td> <td>   -0.048</td> <td>    0.235</td>\n",
       "</tr>\n",
       "<tr>\n",
       "  <th>educacao[T.Superior incompleto]</th>                   <td>   -0.0432</td> <td>    0.078</td> <td>   -0.555</td> <td> 0.579</td> <td>   -0.196</td> <td>    0.109</td>\n",
       "</tr>\n",
       "<tr>\n",
       "  <th>estado_civil[T.Separado]</th>                          <td>    0.3265</td> <td>    0.111</td> <td>    2.935</td> <td> 0.003</td> <td>    0.108</td> <td>    0.545</td>\n",
       "</tr>\n",
       "<tr>\n",
       "  <th>estado_civil[T.Solteiro]</th>                          <td>    0.2672</td> <td>    0.109</td> <td>    2.453</td> <td> 0.014</td> <td>    0.054</td> <td>    0.481</td>\n",
       "</tr>\n",
       "<tr>\n",
       "  <th>estado_civil[T.União]</th>                             <td>   -0.0343</td> <td>    0.025</td> <td>   -1.361</td> <td> 0.174</td> <td>   -0.084</td> <td>    0.015</td>\n",
       "</tr>\n",
       "<tr>\n",
       "  <th>estado_civil[T.Viúvo]</th>                             <td>    0.3689</td> <td>    0.116</td> <td>    3.191</td> <td> 0.001</td> <td>    0.142</td> <td>    0.596</td>\n",
       "</tr>\n",
       "<tr>\n",
       "  <th>C(tipo_residencia, Treatment(1))[T.Aluguel]</th>       <td>    0.0442</td> <td>    0.054</td> <td>    0.815</td> <td> 0.415</td> <td>   -0.062</td> <td>    0.150</td>\n",
       "</tr>\n",
       "<tr>\n",
       "  <th>C(tipo_residencia, Treatment(1))[T.Com os pais]</th>   <td>    0.0184</td> <td>    0.029</td> <td>    0.625</td> <td> 0.532</td> <td>   -0.039</td> <td>    0.076</td>\n",
       "</tr>\n",
       "<tr>\n",
       "  <th>C(tipo_residencia, Treatment(1))[T.Comunitário]</th>   <td>   -0.0754</td> <td>    0.091</td> <td>   -0.829</td> <td> 0.407</td> <td>   -0.254</td> <td>    0.103</td>\n",
       "</tr>\n",
       "<tr>\n",
       "  <th>C(tipo_residencia, Treatment(1))[T.Estúdio]</th>       <td>    0.1107</td> <td>    0.084</td> <td>    1.319</td> <td> 0.187</td> <td>   -0.054</td> <td>    0.275</td>\n",
       "</tr>\n",
       "<tr>\n",
       "  <th>C(tipo_residencia, Treatment(1))[T.Governamental]</th> <td>   -0.0129</td> <td>    0.039</td> <td>   -0.331</td> <td> 0.741</td> <td>   -0.089</td> <td>    0.064</td>\n",
       "</tr>\n",
       "<tr>\n",
       "  <th>qtd_filhos</th>                                        <td>   -0.2658</td> <td>    0.108</td> <td>   -2.463</td> <td> 0.014</td> <td>   -0.477</td> <td>   -0.054</td>\n",
       "</tr>\n",
       "<tr>\n",
       "  <th>idade</th>                                             <td>    0.0053</td> <td>    0.001</td> <td>    6.624</td> <td> 0.000</td> <td>    0.004</td> <td>    0.007</td>\n",
       "</tr>\n",
       "<tr>\n",
       "  <th>tempo_emprego</th>                                     <td>    0.0617</td> <td>    0.001</td> <td>   59.398</td> <td> 0.000</td> <td>    0.060</td> <td>    0.064</td>\n",
       "</tr>\n",
       "<tr>\n",
       "  <th>qt_pessoas_residencia</th>                             <td>    0.2926</td> <td>    0.108</td> <td>    2.716</td> <td> 0.007</td> <td>    0.081</td> <td>    0.504</td>\n",
       "</tr>\n",
       "</table>\n",
       "<table class=\"simpletable\">\n",
       "<tr>\n",
       "  <th>Omnibus:</th>       <td> 0.858</td> <th>  Durbin-Watson:     </th> <td>   2.023</td>\n",
       "</tr>\n",
       "<tr>\n",
       "  <th>Prob(Omnibus):</th> <td> 0.651</td> <th>  Jarque-Bera (JB):  </th> <td>   0.839</td>\n",
       "</tr>\n",
       "<tr>\n",
       "  <th>Skew:</th>          <td> 0.019</td> <th>  Prob(JB):          </th> <td>   0.657</td>\n",
       "</tr>\n",
       "<tr>\n",
       "  <th>Kurtosis:</th>      <td> 3.012</td> <th>  Cond. No.          </th> <td>2.16e+03</td>\n",
       "</tr>\n",
       "</table><br/><br/>Notes:<br/>[1] Standard Errors assume that the covariance matrix of the errors is correctly specified.<br/>[2] The condition number is large, 2.16e+03. This might indicate that there are<br/>strong multicollinearity or other numerical problems."
      ],
      "text/plain": [
       "<class 'statsmodels.iolib.summary.Summary'>\n",
       "\"\"\"\n",
       "                            OLS Regression Results                            \n",
       "==============================================================================\n",
       "Dep. Variable:          np.log(renda)   R-squared:                       0.357\n",
       "Model:                            OLS   Adj. R-squared:                  0.356\n",
       "Method:                 Least Squares   F-statistic:                     287.5\n",
       "Date:                Sun, 05 Feb 2023   Prob (F-statistic):               0.00\n",
       "Time:                        18:55:12   Log-Likelihood:                -13568.\n",
       "No. Observations:               12427   AIC:                         2.719e+04\n",
       "Df Residuals:                   12402   BIC:                         2.737e+04\n",
       "Df Model:                          24                                         \n",
       "Covariance Type:            nonrobust                                         \n",
       "=====================================================================================================================\n",
       "                                                        coef    std err          t      P>|t|      [0.025      0.975]\n",
       "---------------------------------------------------------------------------------------------------------------------\n",
       "Intercept                                             6.5406      0.229     28.502      0.000       6.091       6.990\n",
       "sexo[T.M]                                             0.7874      0.015     53.723      0.000       0.759       0.816\n",
       "posse_de_veiculo[T.True]                              0.0441      0.014      3.119      0.002       0.016       0.072\n",
       "posse_de_imovel[T.True]                               0.0829      0.014      5.926      0.000       0.055       0.110\n",
       "tipo_renda[T.Bolsista]                                0.2209      0.241      0.916      0.360      -0.252       0.694\n",
       "tipo_renda[T.Empresário]                              0.1551      0.015     10.387      0.000       0.126       0.184\n",
       "tipo_renda[T.Pensionista]                            -0.3087      0.241     -1.280      0.201      -0.782       0.164\n",
       "tipo_renda[T.Servidor público]                        0.0576      0.022      2.591      0.010       0.014       0.101\n",
       "educacao[T.Pós graduação]                             0.1071      0.159      0.673      0.501      -0.205       0.419\n",
       "educacao[T.Secundário]                               -0.0141      0.072     -0.196      0.844      -0.155       0.127\n",
       "educacao[T.Superior completo]                         0.0938      0.072      1.298      0.194      -0.048       0.235\n",
       "educacao[T.Superior incompleto]                      -0.0432      0.078     -0.555      0.579      -0.196       0.109\n",
       "estado_civil[T.Separado]                              0.3265      0.111      2.935      0.003       0.108       0.545\n",
       "estado_civil[T.Solteiro]                              0.2672      0.109      2.453      0.014       0.054       0.481\n",
       "estado_civil[T.União]                                -0.0343      0.025     -1.361      0.174      -0.084       0.015\n",
       "estado_civil[T.Viúvo]                                 0.3689      0.116      3.191      0.001       0.142       0.596\n",
       "C(tipo_residencia, Treatment(1))[T.Aluguel]           0.0442      0.054      0.815      0.415      -0.062       0.150\n",
       "C(tipo_residencia, Treatment(1))[T.Com os pais]       0.0184      0.029      0.625      0.532      -0.039       0.076\n",
       "C(tipo_residencia, Treatment(1))[T.Comunitário]      -0.0754      0.091     -0.829      0.407      -0.254       0.103\n",
       "C(tipo_residencia, Treatment(1))[T.Estúdio]           0.1107      0.084      1.319      0.187      -0.054       0.275\n",
       "C(tipo_residencia, Treatment(1))[T.Governamental]    -0.0129      0.039     -0.331      0.741      -0.089       0.064\n",
       "qtd_filhos                                           -0.2658      0.108     -2.463      0.014      -0.477      -0.054\n",
       "idade                                                 0.0053      0.001      6.624      0.000       0.004       0.007\n",
       "tempo_emprego                                         0.0617      0.001     59.398      0.000       0.060       0.064\n",
       "qt_pessoas_residencia                                 0.2926      0.108      2.716      0.007       0.081       0.504\n",
       "==============================================================================\n",
       "Omnibus:                        0.858   Durbin-Watson:                   2.023\n",
       "Prob(Omnibus):                  0.651   Jarque-Bera (JB):                0.839\n",
       "Skew:                           0.019   Prob(JB):                        0.657\n",
       "Kurtosis:                       3.012   Cond. No.                     2.16e+03\n",
       "==============================================================================\n",
       "\n",
       "Notes:\n",
       "[1] Standard Errors assume that the covariance matrix of the errors is correctly specified.\n",
       "[2] The condition number is large, 2.16e+03. This might indicate that there are\n",
       "strong multicollinearity or other numerical problems.\n",
       "\"\"\""
      ]
     },
     "execution_count": 205,
     "metadata": {},
     "output_type": "execute_result"
    }
   ],
   "source": [
    "sm.OLS(y, x).fit().summary()"
   ]
  },
  {
   "cell_type": "code",
   "execution_count": null,
   "metadata": {},
   "outputs": [],
   "source": [
    "# R. Não houve alteração significativa, exceto pelo R² levemente menor que o inicial."
   ]
  },
  {
   "cell_type": "markdown",
   "metadata": {},
   "source": [
    "3. Siga removendo as variáveis menos significantes, sempre que o *p-value* for menor que 5%. Compare o modelo final com o inicial. Observe os indicadores e conclua se o modelo parece melhor. \n",
    "    "
   ]
  },
  {
   "cell_type": "code",
   "execution_count": 206,
   "metadata": {},
   "outputs": [],
   "source": [
    "# variáveis menos significantes são aquelas com p-value maior que 5%."
   ]
  },
  {
   "cell_type": "code",
   "execution_count": 207,
   "metadata": {},
   "outputs": [],
   "source": [
    "y, x = patsy.dmatrices('np.log(renda) ~ + sexo + posse_de_veiculo + posse_de_imovel + qtd_filhos + tipo_renda + educacao + estado_civil + C(tipo_residencia, Treatment(1)) + idade + tempo_emprego + qt_pessoas_residencia', data = df)"
   ]
  },
  {
   "cell_type": "code",
   "execution_count": 208,
   "metadata": {},
   "outputs": [
    {
     "data": {
      "text/html": [
       "<table class=\"simpletable\">\n",
       "<caption>OLS Regression Results</caption>\n",
       "<tr>\n",
       "  <th>Dep. Variable:</th>      <td>np.log(renda)</td>  <th>  R-squared:         </th> <td>   0.357</td> \n",
       "</tr>\n",
       "<tr>\n",
       "  <th>Model:</th>                   <td>OLS</td>       <th>  Adj. R-squared:    </th> <td>   0.356</td> \n",
       "</tr>\n",
       "<tr>\n",
       "  <th>Method:</th>             <td>Least Squares</td>  <th>  F-statistic:       </th> <td>   287.5</td> \n",
       "</tr>\n",
       "<tr>\n",
       "  <th>Date:</th>             <td>Sun, 05 Feb 2023</td> <th>  Prob (F-statistic):</th>  <td>  0.00</td>  \n",
       "</tr>\n",
       "<tr>\n",
       "  <th>Time:</th>                 <td>18:55:13</td>     <th>  Log-Likelihood:    </th> <td> -13568.</td> \n",
       "</tr>\n",
       "<tr>\n",
       "  <th>No. Observations:</th>      <td> 12427</td>      <th>  AIC:               </th> <td>2.719e+04</td>\n",
       "</tr>\n",
       "<tr>\n",
       "  <th>Df Residuals:</th>          <td> 12402</td>      <th>  BIC:               </th> <td>2.737e+04</td>\n",
       "</tr>\n",
       "<tr>\n",
       "  <th>Df Model:</th>              <td>    24</td>      <th>                     </th>     <td> </td>    \n",
       "</tr>\n",
       "<tr>\n",
       "  <th>Covariance Type:</th>      <td>nonrobust</td>    <th>                     </th>     <td> </td>    \n",
       "</tr>\n",
       "</table>\n",
       "<table class=\"simpletable\">\n",
       "<tr>\n",
       "                          <td></td>                             <th>coef</th>     <th>std err</th>      <th>t</th>      <th>P>|t|</th>  <th>[0.025</th>    <th>0.975]</th>  \n",
       "</tr>\n",
       "<tr>\n",
       "  <th>Intercept</th>                                         <td>    6.5406</td> <td>    0.229</td> <td>   28.502</td> <td> 0.000</td> <td>    6.091</td> <td>    6.990</td>\n",
       "</tr>\n",
       "<tr>\n",
       "  <th>sexo[T.M]</th>                                         <td>    0.7874</td> <td>    0.015</td> <td>   53.723</td> <td> 0.000</td> <td>    0.759</td> <td>    0.816</td>\n",
       "</tr>\n",
       "<tr>\n",
       "  <th>posse_de_veiculo[T.True]</th>                          <td>    0.0441</td> <td>    0.014</td> <td>    3.119</td> <td> 0.002</td> <td>    0.016</td> <td>    0.072</td>\n",
       "</tr>\n",
       "<tr>\n",
       "  <th>posse_de_imovel[T.True]</th>                           <td>    0.0829</td> <td>    0.014</td> <td>    5.926</td> <td> 0.000</td> <td>    0.055</td> <td>    0.110</td>\n",
       "</tr>\n",
       "<tr>\n",
       "  <th>tipo_renda[T.Bolsista]</th>                            <td>    0.2209</td> <td>    0.241</td> <td>    0.916</td> <td> 0.360</td> <td>   -0.252</td> <td>    0.694</td>\n",
       "</tr>\n",
       "<tr>\n",
       "  <th>tipo_renda[T.Empresário]</th>                          <td>    0.1551</td> <td>    0.015</td> <td>   10.387</td> <td> 0.000</td> <td>    0.126</td> <td>    0.184</td>\n",
       "</tr>\n",
       "<tr>\n",
       "  <th>tipo_renda[T.Pensionista]</th>                         <td>   -0.3087</td> <td>    0.241</td> <td>   -1.280</td> <td> 0.201</td> <td>   -0.782</td> <td>    0.164</td>\n",
       "</tr>\n",
       "<tr>\n",
       "  <th>tipo_renda[T.Servidor público]</th>                    <td>    0.0576</td> <td>    0.022</td> <td>    2.591</td> <td> 0.010</td> <td>    0.014</td> <td>    0.101</td>\n",
       "</tr>\n",
       "<tr>\n",
       "  <th>educacao[T.Pós graduação]</th>                         <td>    0.1071</td> <td>    0.159</td> <td>    0.673</td> <td> 0.501</td> <td>   -0.205</td> <td>    0.419</td>\n",
       "</tr>\n",
       "<tr>\n",
       "  <th>educacao[T.Secundário]</th>                            <td>   -0.0141</td> <td>    0.072</td> <td>   -0.196</td> <td> 0.844</td> <td>   -0.155</td> <td>    0.127</td>\n",
       "</tr>\n",
       "<tr>\n",
       "  <th>educacao[T.Superior completo]</th>                     <td>    0.0938</td> <td>    0.072</td> <td>    1.298</td> <td> 0.194</td> <td>   -0.048</td> <td>    0.235</td>\n",
       "</tr>\n",
       "<tr>\n",
       "  <th>educacao[T.Superior incompleto]</th>                   <td>   -0.0432</td> <td>    0.078</td> <td>   -0.555</td> <td> 0.579</td> <td>   -0.196</td> <td>    0.109</td>\n",
       "</tr>\n",
       "<tr>\n",
       "  <th>estado_civil[T.Separado]</th>                          <td>    0.3265</td> <td>    0.111</td> <td>    2.935</td> <td> 0.003</td> <td>    0.108</td> <td>    0.545</td>\n",
       "</tr>\n",
       "<tr>\n",
       "  <th>estado_civil[T.Solteiro]</th>                          <td>    0.2672</td> <td>    0.109</td> <td>    2.453</td> <td> 0.014</td> <td>    0.054</td> <td>    0.481</td>\n",
       "</tr>\n",
       "<tr>\n",
       "  <th>estado_civil[T.União]</th>                             <td>   -0.0343</td> <td>    0.025</td> <td>   -1.361</td> <td> 0.174</td> <td>   -0.084</td> <td>    0.015</td>\n",
       "</tr>\n",
       "<tr>\n",
       "  <th>estado_civil[T.Viúvo]</th>                             <td>    0.3689</td> <td>    0.116</td> <td>    3.191</td> <td> 0.001</td> <td>    0.142</td> <td>    0.596</td>\n",
       "</tr>\n",
       "<tr>\n",
       "  <th>C(tipo_residencia, Treatment(1))[T.Aluguel]</th>       <td>    0.0442</td> <td>    0.054</td> <td>    0.815</td> <td> 0.415</td> <td>   -0.062</td> <td>    0.150</td>\n",
       "</tr>\n",
       "<tr>\n",
       "  <th>C(tipo_residencia, Treatment(1))[T.Com os pais]</th>   <td>    0.0184</td> <td>    0.029</td> <td>    0.625</td> <td> 0.532</td> <td>   -0.039</td> <td>    0.076</td>\n",
       "</tr>\n",
       "<tr>\n",
       "  <th>C(tipo_residencia, Treatment(1))[T.Comunitário]</th>   <td>   -0.0754</td> <td>    0.091</td> <td>   -0.829</td> <td> 0.407</td> <td>   -0.254</td> <td>    0.103</td>\n",
       "</tr>\n",
       "<tr>\n",
       "  <th>C(tipo_residencia, Treatment(1))[T.Estúdio]</th>       <td>    0.1107</td> <td>    0.084</td> <td>    1.319</td> <td> 0.187</td> <td>   -0.054</td> <td>    0.275</td>\n",
       "</tr>\n",
       "<tr>\n",
       "  <th>C(tipo_residencia, Treatment(1))[T.Governamental]</th> <td>   -0.0129</td> <td>    0.039</td> <td>   -0.331</td> <td> 0.741</td> <td>   -0.089</td> <td>    0.064</td>\n",
       "</tr>\n",
       "<tr>\n",
       "  <th>qtd_filhos</th>                                        <td>   -0.2658</td> <td>    0.108</td> <td>   -2.463</td> <td> 0.014</td> <td>   -0.477</td> <td>   -0.054</td>\n",
       "</tr>\n",
       "<tr>\n",
       "  <th>idade</th>                                             <td>    0.0053</td> <td>    0.001</td> <td>    6.624</td> <td> 0.000</td> <td>    0.004</td> <td>    0.007</td>\n",
       "</tr>\n",
       "<tr>\n",
       "  <th>tempo_emprego</th>                                     <td>    0.0617</td> <td>    0.001</td> <td>   59.398</td> <td> 0.000</td> <td>    0.060</td> <td>    0.064</td>\n",
       "</tr>\n",
       "<tr>\n",
       "  <th>qt_pessoas_residencia</th>                             <td>    0.2926</td> <td>    0.108</td> <td>    2.716</td> <td> 0.007</td> <td>    0.081</td> <td>    0.504</td>\n",
       "</tr>\n",
       "</table>\n",
       "<table class=\"simpletable\">\n",
       "<tr>\n",
       "  <th>Omnibus:</th>       <td> 0.858</td> <th>  Durbin-Watson:     </th> <td>   2.023</td>\n",
       "</tr>\n",
       "<tr>\n",
       "  <th>Prob(Omnibus):</th> <td> 0.651</td> <th>  Jarque-Bera (JB):  </th> <td>   0.839</td>\n",
       "</tr>\n",
       "<tr>\n",
       "  <th>Skew:</th>          <td> 0.019</td> <th>  Prob(JB):          </th> <td>   0.657</td>\n",
       "</tr>\n",
       "<tr>\n",
       "  <th>Kurtosis:</th>      <td> 3.012</td> <th>  Cond. No.          </th> <td>2.16e+03</td>\n",
       "</tr>\n",
       "</table><br/><br/>Notes:<br/>[1] Standard Errors assume that the covariance matrix of the errors is correctly specified.<br/>[2] The condition number is large, 2.16e+03. This might indicate that there are<br/>strong multicollinearity or other numerical problems."
      ],
      "text/plain": [
       "<class 'statsmodels.iolib.summary.Summary'>\n",
       "\"\"\"\n",
       "                            OLS Regression Results                            \n",
       "==============================================================================\n",
       "Dep. Variable:          np.log(renda)   R-squared:                       0.357\n",
       "Model:                            OLS   Adj. R-squared:                  0.356\n",
       "Method:                 Least Squares   F-statistic:                     287.5\n",
       "Date:                Sun, 05 Feb 2023   Prob (F-statistic):               0.00\n",
       "Time:                        18:55:13   Log-Likelihood:                -13568.\n",
       "No. Observations:               12427   AIC:                         2.719e+04\n",
       "Df Residuals:                   12402   BIC:                         2.737e+04\n",
       "Df Model:                          24                                         \n",
       "Covariance Type:            nonrobust                                         \n",
       "=====================================================================================================================\n",
       "                                                        coef    std err          t      P>|t|      [0.025      0.975]\n",
       "---------------------------------------------------------------------------------------------------------------------\n",
       "Intercept                                             6.5406      0.229     28.502      0.000       6.091       6.990\n",
       "sexo[T.M]                                             0.7874      0.015     53.723      0.000       0.759       0.816\n",
       "posse_de_veiculo[T.True]                              0.0441      0.014      3.119      0.002       0.016       0.072\n",
       "posse_de_imovel[T.True]                               0.0829      0.014      5.926      0.000       0.055       0.110\n",
       "tipo_renda[T.Bolsista]                                0.2209      0.241      0.916      0.360      -0.252       0.694\n",
       "tipo_renda[T.Empresário]                              0.1551      0.015     10.387      0.000       0.126       0.184\n",
       "tipo_renda[T.Pensionista]                            -0.3087      0.241     -1.280      0.201      -0.782       0.164\n",
       "tipo_renda[T.Servidor público]                        0.0576      0.022      2.591      0.010       0.014       0.101\n",
       "educacao[T.Pós graduação]                             0.1071      0.159      0.673      0.501      -0.205       0.419\n",
       "educacao[T.Secundário]                               -0.0141      0.072     -0.196      0.844      -0.155       0.127\n",
       "educacao[T.Superior completo]                         0.0938      0.072      1.298      0.194      -0.048       0.235\n",
       "educacao[T.Superior incompleto]                      -0.0432      0.078     -0.555      0.579      -0.196       0.109\n",
       "estado_civil[T.Separado]                              0.3265      0.111      2.935      0.003       0.108       0.545\n",
       "estado_civil[T.Solteiro]                              0.2672      0.109      2.453      0.014       0.054       0.481\n",
       "estado_civil[T.União]                                -0.0343      0.025     -1.361      0.174      -0.084       0.015\n",
       "estado_civil[T.Viúvo]                                 0.3689      0.116      3.191      0.001       0.142       0.596\n",
       "C(tipo_residencia, Treatment(1))[T.Aluguel]           0.0442      0.054      0.815      0.415      -0.062       0.150\n",
       "C(tipo_residencia, Treatment(1))[T.Com os pais]       0.0184      0.029      0.625      0.532      -0.039       0.076\n",
       "C(tipo_residencia, Treatment(1))[T.Comunitário]      -0.0754      0.091     -0.829      0.407      -0.254       0.103\n",
       "C(tipo_residencia, Treatment(1))[T.Estúdio]           0.1107      0.084      1.319      0.187      -0.054       0.275\n",
       "C(tipo_residencia, Treatment(1))[T.Governamental]    -0.0129      0.039     -0.331      0.741      -0.089       0.064\n",
       "qtd_filhos                                           -0.2658      0.108     -2.463      0.014      -0.477      -0.054\n",
       "idade                                                 0.0053      0.001      6.624      0.000       0.004       0.007\n",
       "tempo_emprego                                         0.0617      0.001     59.398      0.000       0.060       0.064\n",
       "qt_pessoas_residencia                                 0.2926      0.108      2.716      0.007       0.081       0.504\n",
       "==============================================================================\n",
       "Omnibus:                        0.858   Durbin-Watson:                   2.023\n",
       "Prob(Omnibus):                  0.651   Jarque-Bera (JB):                0.839\n",
       "Skew:                           0.019   Prob(JB):                        0.657\n",
       "Kurtosis:                       3.012   Cond. No.                     2.16e+03\n",
       "==============================================================================\n",
       "\n",
       "Notes:\n",
       "[1] Standard Errors assume that the covariance matrix of the errors is correctly specified.\n",
       "[2] The condition number is large, 2.16e+03. This might indicate that there are\n",
       "strong multicollinearity or other numerical problems.\n",
       "\"\"\""
      ]
     },
     "execution_count": 208,
     "metadata": {},
     "output_type": "execute_result"
    }
   ],
   "source": [
    "sm.OLS(y, x).fit().summary()"
   ]
  },
  {
   "cell_type": "code",
   "execution_count": 209,
   "metadata": {},
   "outputs": [],
   "source": [
    "# Removendo as variáveis menos significativas (com p-value maior que 5%).\n",
    "\n",
    "df['tipo_renda'] = df.tipo_renda.astype('category')\n",
    "_df = df[(df.tipo_renda!='Bolsista') & (df.tipo_renda!='Pensionista')].copy(deep=True)\n",
    "_df['tipo_renda'] = _df.tipo_renda.cat.remove_unused_categories()"
   ]
  },
  {
   "cell_type": "code",
   "execution_count": 210,
   "metadata": {},
   "outputs": [],
   "source": [
    "_df['estado_civil'] = _df.estado_civil.astype('category')\n",
    "_df = _df[(_df.estado_civil!='União')].copy(deep=True)\n",
    "_df['estado_civil'] = _df.estado_civil.cat.remove_unused_categories()"
   ]
  },
  {
   "cell_type": "code",
   "execution_count": 211,
   "metadata": {},
   "outputs": [],
   "source": [
    "_df['tipo_residencia'] = _df.tipo_residencia.astype('category')\n",
    "_df = _df[(_df.tipo_residencia=='Casa')].copy(deep=True)\n",
    "_df['tipo_residencia'] = _df.tipo_residencia.cat.remove_unused_categories()"
   ]
  },
  {
   "cell_type": "code",
   "execution_count": 212,
   "metadata": {},
   "outputs": [
    {
     "data": {
      "text/html": [
       "<table class=\"simpletable\">\n",
       "<caption>OLS Regression Results</caption>\n",
       "<tr>\n",
       "  <th>Dep. Variable:</th>      <td>np.log(renda)</td>  <th>  R-squared:         </th> <td>   0.359</td> \n",
       "</tr>\n",
       "<tr>\n",
       "  <th>Model:</th>                   <td>OLS</td>       <th>  Adj. R-squared:    </th> <td>   0.358</td> \n",
       "</tr>\n",
       "<tr>\n",
       "  <th>Method:</th>             <td>Least Squares</td>  <th>  F-statistic:       </th> <td>   477.2</td> \n",
       "</tr>\n",
       "<tr>\n",
       "  <th>Date:</th>             <td>Sun, 05 Feb 2023</td> <th>  Prob (F-statistic):</th>  <td>  0.00</td>  \n",
       "</tr>\n",
       "<tr>\n",
       "  <th>Time:</th>                 <td>18:55:15</td>     <th>  Log-Likelihood:    </th> <td> -11228.</td> \n",
       "</tr>\n",
       "<tr>\n",
       "  <th>No. Observations:</th>      <td> 10231</td>      <th>  AIC:               </th> <td>2.248e+04</td>\n",
       "</tr>\n",
       "<tr>\n",
       "  <th>Df Residuals:</th>          <td> 10218</td>      <th>  BIC:               </th> <td>2.258e+04</td>\n",
       "</tr>\n",
       "<tr>\n",
       "  <th>Df Model:</th>              <td>    12</td>      <th>                     </th>     <td> </td>    \n",
       "</tr>\n",
       "<tr>\n",
       "  <th>Covariance Type:</th>      <td>nonrobust</td>    <th>                     </th>     <td> </td>    \n",
       "</tr>\n",
       "</table>\n",
       "<table class=\"simpletable\">\n",
       "<tr>\n",
       "                 <td></td>                   <th>coef</th>     <th>std err</th>      <th>t</th>      <th>P>|t|</th>  <th>[0.025</th>    <th>0.975]</th>  \n",
       "</tr>\n",
       "<tr>\n",
       "  <th>Intercept</th>                      <td>    6.4964</td> <td>    0.236</td> <td>   27.554</td> <td> 0.000</td> <td>    6.034</td> <td>    6.959</td>\n",
       "</tr>\n",
       "<tr>\n",
       "  <th>sexo[T.M]</th>                      <td>    0.8005</td> <td>    0.016</td> <td>   49.503</td> <td> 0.000</td> <td>    0.769</td> <td>    0.832</td>\n",
       "</tr>\n",
       "<tr>\n",
       "  <th>posse_de_veiculo[T.True]</th>       <td>    0.0455</td> <td>    0.016</td> <td>    2.931</td> <td> 0.003</td> <td>    0.015</td> <td>    0.076</td>\n",
       "</tr>\n",
       "<tr>\n",
       "  <th>posse_de_imovel[T.True]</th>        <td>    0.0892</td> <td>    0.016</td> <td>    5.715</td> <td> 0.000</td> <td>    0.059</td> <td>    0.120</td>\n",
       "</tr>\n",
       "<tr>\n",
       "  <th>tipo_renda[T.Empresário]</th>       <td>    0.1779</td> <td>    0.016</td> <td>   10.803</td> <td> 0.000</td> <td>    0.146</td> <td>    0.210</td>\n",
       "</tr>\n",
       "<tr>\n",
       "  <th>tipo_renda[T.Servidor público]</th> <td>    0.0727</td> <td>    0.024</td> <td>    2.973</td> <td> 0.003</td> <td>    0.025</td> <td>    0.121</td>\n",
       "</tr>\n",
       "<tr>\n",
       "  <th>estado_civil[T.Separado]</th>       <td>    0.3877</td> <td>    0.120</td> <td>    3.231</td> <td> 0.001</td> <td>    0.152</td> <td>    0.623</td>\n",
       "</tr>\n",
       "<tr>\n",
       "  <th>estado_civil[T.Solteiro]</th>       <td>    0.3053</td> <td>    0.118</td> <td>    2.595</td> <td> 0.009</td> <td>    0.075</td> <td>    0.536</td>\n",
       "</tr>\n",
       "<tr>\n",
       "  <th>estado_civil[T.Viúvo]</th>          <td>    0.4092</td> <td>    0.124</td> <td>    3.295</td> <td> 0.001</td> <td>    0.166</td> <td>    0.653</td>\n",
       "</tr>\n",
       "<tr>\n",
       "  <th>qtd_filhos</th>                     <td>   -0.3108</td> <td>    0.117</td> <td>   -2.667</td> <td> 0.008</td> <td>   -0.539</td> <td>   -0.082</td>\n",
       "</tr>\n",
       "<tr>\n",
       "  <th>idade</th>                          <td>    0.0045</td> <td>    0.001</td> <td>    5.253</td> <td> 0.000</td> <td>    0.003</td> <td>    0.006</td>\n",
       "</tr>\n",
       "<tr>\n",
       "  <th>tempo_emprego</th>                  <td>    0.0617</td> <td>    0.001</td> <td>   54.527</td> <td> 0.000</td> <td>    0.059</td> <td>    0.064</td>\n",
       "</tr>\n",
       "<tr>\n",
       "  <th>qt_pessoas_residencia</th>          <td>    0.3355</td> <td>    0.116</td> <td>    2.884</td> <td> 0.004</td> <td>    0.107</td> <td>    0.564</td>\n",
       "</tr>\n",
       "</table>\n",
       "<table class=\"simpletable\">\n",
       "<tr>\n",
       "  <th>Omnibus:</th>       <td> 1.897</td> <th>  Durbin-Watson:     </th> <td>   2.026</td>\n",
       "</tr>\n",
       "<tr>\n",
       "  <th>Prob(Omnibus):</th> <td> 0.387</td> <th>  Jarque-Bera (JB):  </th> <td>   1.920</td>\n",
       "</tr>\n",
       "<tr>\n",
       "  <th>Skew:</th>          <td> 0.032</td> <th>  Prob(JB):          </th> <td>   0.383</td>\n",
       "</tr>\n",
       "<tr>\n",
       "  <th>Kurtosis:</th>      <td> 2.980</td> <th>  Cond. No.          </th> <td>2.11e+03</td>\n",
       "</tr>\n",
       "</table><br/><br/>Notes:<br/>[1] Standard Errors assume that the covariance matrix of the errors is correctly specified.<br/>[2] The condition number is large, 2.11e+03. This might indicate that there are<br/>strong multicollinearity or other numerical problems."
      ],
      "text/plain": [
       "<class 'statsmodels.iolib.summary.Summary'>\n",
       "\"\"\"\n",
       "                            OLS Regression Results                            \n",
       "==============================================================================\n",
       "Dep. Variable:          np.log(renda)   R-squared:                       0.359\n",
       "Model:                            OLS   Adj. R-squared:                  0.358\n",
       "Method:                 Least Squares   F-statistic:                     477.2\n",
       "Date:                Sun, 05 Feb 2023   Prob (F-statistic):               0.00\n",
       "Time:                        18:55:15   Log-Likelihood:                -11228.\n",
       "No. Observations:               10231   AIC:                         2.248e+04\n",
       "Df Residuals:                   10218   BIC:                         2.258e+04\n",
       "Df Model:                          12                                         \n",
       "Covariance Type:            nonrobust                                         \n",
       "==================================================================================================\n",
       "                                     coef    std err          t      P>|t|      [0.025      0.975]\n",
       "--------------------------------------------------------------------------------------------------\n",
       "Intercept                          6.4964      0.236     27.554      0.000       6.034       6.959\n",
       "sexo[T.M]                          0.8005      0.016     49.503      0.000       0.769       0.832\n",
       "posse_de_veiculo[T.True]           0.0455      0.016      2.931      0.003       0.015       0.076\n",
       "posse_de_imovel[T.True]            0.0892      0.016      5.715      0.000       0.059       0.120\n",
       "tipo_renda[T.Empresário]           0.1779      0.016     10.803      0.000       0.146       0.210\n",
       "tipo_renda[T.Servidor público]     0.0727      0.024      2.973      0.003       0.025       0.121\n",
       "estado_civil[T.Separado]           0.3877      0.120      3.231      0.001       0.152       0.623\n",
       "estado_civil[T.Solteiro]           0.3053      0.118      2.595      0.009       0.075       0.536\n",
       "estado_civil[T.Viúvo]              0.4092      0.124      3.295      0.001       0.166       0.653\n",
       "qtd_filhos                        -0.3108      0.117     -2.667      0.008      -0.539      -0.082\n",
       "idade                              0.0045      0.001      5.253      0.000       0.003       0.006\n",
       "tempo_emprego                      0.0617      0.001     54.527      0.000       0.059       0.064\n",
       "qt_pessoas_residencia              0.3355      0.116      2.884      0.004       0.107       0.564\n",
       "==============================================================================\n",
       "Omnibus:                        1.897   Durbin-Watson:                   2.026\n",
       "Prob(Omnibus):                  0.387   Jarque-Bera (JB):                1.920\n",
       "Skew:                           0.032   Prob(JB):                        0.383\n",
       "Kurtosis:                       2.980   Cond. No.                     2.11e+03\n",
       "==============================================================================\n",
       "\n",
       "Notes:\n",
       "[1] Standard Errors assume that the covariance matrix of the errors is correctly specified.\n",
       "[2] The condition number is large, 2.11e+03. This might indicate that there are\n",
       "strong multicollinearity or other numerical problems.\n",
       "\"\"\""
      ]
     },
     "execution_count": 212,
     "metadata": {},
     "output_type": "execute_result"
    }
   ],
   "source": [
    "y, x = patsy.dmatrices('np.log(renda) ~ + sexo + posse_de_veiculo + posse_de_imovel + qtd_filhos + tipo_renda + estado_civil + C(tipo_residencia) + idade + tempo_emprego + qt_pessoas_residencia', data = _df)\n",
    "sm.OLS(y, x).fit().summary()"
   ]
  },
  {
   "cell_type": "code",
   "execution_count": 214,
   "metadata": {},
   "outputs": [],
   "source": [
    "# R. O modelo se comportou praticamente da mesma forma que o modelo inicial, inclusive com o mesmo valor para R²."
   ]
  }
 ],
 "metadata": {
  "kernelspec": {
   "display_name": "Python 3 (ipykernel)",
   "language": "python",
   "name": "python3"
  },
  "language_info": {
   "codemirror_mode": {
    "name": "ipython",
    "version": 3
   },
   "file_extension": ".py",
   "mimetype": "text/x-python",
   "name": "python",
   "nbconvert_exporter": "python",
   "pygments_lexer": "ipython3",
   "version": "3.9.13"
  }
 },
 "nbformat": 4,
 "nbformat_minor": 4
}
